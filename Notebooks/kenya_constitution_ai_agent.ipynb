{
 "cells": [
  {
   "cell_type": "markdown",
   "metadata": {},
   "source": [
    "# Kenya Constitution AI Agent – Business Understanding\n",
    "\n",
    "## Project Context\n",
    "The Kenyan Constitution of 2010 is a comprehensive legal document that governs the country's laws and citizens' rights. However, it is long, complex, and written in legal language that can be difficult for the general population, especially youths, to understand. \n",
    "\n",
    "Accessing relevant information quickly can be challenging, making it difficult for citizens to exercise their rights or comply with legal obligations.\n",
    "\n",
    "## Business Problem\n",
    "*Problem Statement:*  \n",
    "Citizens, especially young people, need an accessible way to understand and query the Kenyan Constitution in everyday language. Traditional legal consultation is expensive, and reading the full document is time-consuming.\n",
    "\n",
    "*Objective:*  \n",
    "Develop an AI agent that uses Natural Language Processing (NLP) to understand user queries and provide relevant answers from the Constitution. The agent should:\n",
    "\n",
    "- Accept questions in *English and Kiswahili*.\n",
    "- Return accurate, understandable answers.\n",
    "- Quote the specific article/section from the Constitution for credibility.\n",
    "\n",
    "*Stakeholders:*  \n",
    "- Kenyan youths (primary users)\n",
    "- NGOs and civic education organizations\n",
    "- Government institutions promoting civic engagement\n",
    "\n",
    "## Expected Impact\n",
    "- *Empowerment:* Citizens can better understand their rights and duties.\n",
    "- *Accessibility:* Reduces reliance on legal experts for basic constitutional questions.\n",
    "- *Scalability:* The system can be deployed online and integrated via API for wider use.\n",
    "\n",
    "## Key Considerations\n",
    "- Language support (English + Kiswahili)\n",
    "- Handling legal jargon\n",
    "- Accurate referencing of articles/chapters\n",
    "- Efficient query handling for fast responses"
   ]
  },
  {
   "cell_type": "markdown",
   "metadata": {},
   "source": [
    " # Data Understanding\n",
    "\n",
    "## Overview of the Data\n",
    "For this project, our data sources are:\n",
    "\n",
    "1. *English version of the Kenyan Constitution (2010)*  \n",
    "   - Source: [The Constitution of Kenya 2010 PDF](Data/The_Constitution_of_Kenya_2010.pdf)  \n",
    "   - Contains all chapters, articles, and legal provisions in English.  \n",
    "   - Needs text extraction and cleaning to convert it into a structured format for NLP.\n",
    "\n",
    "2. *Kiswahili version of the Kenyan Constitution*  \n",
    "   - Source: [Kielelezo_Pantanifu_cha_Katiba_ya_Kenya.pdf](Data/Kielelezo_Pantanifu_cha_Katiba_ya_Kenya.pdf)  \n",
    "   - Same content as the English version, translated into Kiswahili.  \n",
    "   - Requires extraction, cleaning, and alignment with the English dataset.\n",
    "\n",
    "*Purpose of Using Both Languages:*  \n",
    "- Enable the AI agent to respond to user queries in *English* or *Kiswahili*.  \n",
    "- Improve accessibility and inclusivity for all Kenyan citizens.  \n",
    "\n",
    "## Data Structure\n",
    "After preprocessing, the expected data structure is:\n",
    "\n",
    "| Article/Section | Text (English) | Text (Kiswahili) |\n",
    "|-----------------|----------------|-----------------|\n",
    "| Article 1       | Text content   | Swahili content |\n",
    "| Article 2       | Text content   | Swahili content |\n",
    "| ...             | ...            | ...             |\n",
    "\n",
    "*Notes:*  \n",
    "- Each row corresponds to an *article* or *clause*.  \n",
    "- This will allow the NLP model to retrieve relevant sections when users ask questions.  \n",
    "\n",
    "## Data Quality Considerations\n",
    "- PDFs contain headers, footers, and formatting that need cleaning.  \n",
    "- Ensure *text alignment* between English and Kiswahili versions.  \n",
    "- Maintain *article/chapter references* to allow citations in responses.  \n",
    "\n",
    "## Next Steps\n",
    "1. Extract text from PDFs into a structured format (JSON/CSV).  \n",
    "2. Clean text by removing:\n",
    "   - Page numbers\n",
    "   - Footnotes\n",
    "   - Unnecessary whitespace and formatting characters  \n",
    "3. Verify consistency between English and Kiswahili versions.  \n",
    "4. Prepare a dataset ready for:\n",
    "   - Embeddings creation\n",
    "   - NLP query retrieval\n",
    "\n"
   ]
  },
  {
   "cell_type": "code",
   "execution_count": 4,
   "metadata": {},
   "outputs": [
    {
     "name": "stdout",
     "output_type": "stream",
     "text": [
      "Requirement already satisfied: pdfplumber in c:\\users\\tinah\\anaconda3\\moringa\\lib\\site-packages (0.11.7)\n",
      "Requirement already satisfied: pdfminer.six==20250506 in c:\\users\\tinah\\anaconda3\\moringa\\lib\\site-packages (from pdfplumber) (20250506)\n",
      "Requirement already satisfied: Pillow>=9.1 in c:\\users\\tinah\\anaconda3\\moringa\\lib\\site-packages (from pdfplumber) (10.4.0)\n",
      "Requirement already satisfied: pypdfium2>=4.18.0 in c:\\users\\tinah\\anaconda3\\moringa\\lib\\site-packages (from pdfplumber) (4.30.0)\n",
      "Requirement already satisfied: charset-normalizer>=2.0.0 in c:\\users\\tinah\\anaconda3\\moringa\\lib\\site-packages (from pdfminer.six==20250506->pdfplumber) (3.3.2)\n",
      "Requirement already satisfied: cryptography>=36.0.0 in c:\\users\\tinah\\anaconda3\\moringa\\lib\\site-packages (from pdfminer.six==20250506->pdfplumber) (43.0.0)\n",
      "Requirement already satisfied: cffi>=1.12 in c:\\users\\tinah\\anaconda3\\moringa\\lib\\site-packages (from cryptography>=36.0.0->pdfminer.six==20250506->pdfplumber) (1.17.1)\n",
      "Requirement already satisfied: pycparser in c:\\users\\tinah\\anaconda3\\moringa\\lib\\site-packages (from cffi>=1.12->cryptography>=36.0.0->pdfminer.six==20250506->pdfplumber) (2.21)\n",
      "pdfplumber installed successfully!\n"
     ]
    }
   ],
   "source": [
    "!pip install pdfplumber\n",
    "import pdfplumber\n",
    "print(\"pdfplumber installed successfully!\")"
   ]
  },
  {
   "cell_type": "markdown",
   "metadata": {},
   "source": [
    "## Extract texts from PDFs"
   ]
  },
  {
   "cell_type": "code",
   "execution_count": 9,
   "metadata": {},
   "outputs": [
    {
     "name": "stdout",
     "output_type": "stream",
     "text": [
      "English Preview:\n",
      " LAWS OF KENYA\n",
      "THE CONSTITUTION OF KENYA, 2010\n",
      "Published by the National Council for Law Reporting\n",
      "with the Authority of the Attorney-General\n",
      "www.kenyalaw.org\n",
      "Constitution of Kenya, 2010\n",
      "THE CONSTITUTION OF KENYA, 2010\n",
      "ARRANGEMENT OF ARTICLES\n",
      "PREAMBLE\n",
      "CHAPTER ONE—SOVEREIGNTY OF THE PEOPLE AND\n",
      "SUPREMACY OF THIS CONSTITUTION\n",
      "1—Sovereignty of the people.\n",
      "2—Supremacy of this Constitution.\n",
      "3—Defence of this Constitution.\n",
      "CHAPTER TWO—THE REPUBLIC\n",
      "4—Declaration of the Republic.\n",
      "5—Territory of Kenya.\n",
      "6—Devolution and access to services.\n",
      "7—National, official and other languages.\n",
      "8—State and religion.\n",
      "9—National symbols and national days.\n",
      "10—National values and principles of governance.\n",
      "11—Culture.\n",
      "CHAPTER THREE—CITIZENSHIP\n",
      "12—Entitlements of citizens.\n",
      "13—Retention and acquisition of citizenship.\n",
      "14—Citizenship by birth.\n",
      "15—Citizenship by registration.\n",
      "16—Dual citizenship.\n",
      "17—Revocation of citizenship.\n",
      "18—Legislation on citizenship.\n",
      "CHAPTER FOUR—THE BILL OF RIGHTS\n",
      "PART 1—GENERAL PROVISIONS RELATI\n",
      "\n",
      "Kiswahili Preview:\n",
      " �������������������\n",
      "�������������������\n",
      "���������������������������������������������������\n",
      "���������������������������������������������������\n",
      "��������������������������������������������\n",
      "�������������������������\n",
      "KIELELEZO PATANIFU CHA KATIBA YA KENYA\n",
      "2 JUMAPILI, NOVEMBA 22, 2009\n",
      "Imechapishwa mnamo Novemba 17, 2009 na Kamati ya Wataalam Kuhusu Marekebisho ya Katiba Kulingana na\n",
      "Sehemu 32(1)(a)(i) ya Sheria ya Marekebisho ya Katiba ya Kenya, 2008.\n",
      "40. Vijana\n",
      "UTANGULIZI\n",
      "41. Watoto\n",
      "42. Familia\n",
      "43. Walemavu\n",
      "SURA YA KWANZA\n",
      "44. Makundi Tengwa\n",
      "45. Hadhi ya kibinadamu\n",
      "46. Uhuru na usalama wa mtu\n",
      "UTAWALA WA WATU NA MAMLAKA YA KATIBA\n",
      "47. Utumwa na kazi ya kulazimishwa\n",
      "1. Utawala wa watu\n",
      "48. Usiri\n",
      "2. Mamlaka ya Katiba\n",
      "49. Uhuru wa dhamiri, dini, imani na maoni\n",
      "3. Kulinda Katiba\n",
      "50. Uhuru wa kujieleza\n",
      "51. Uhuru wa vyombo vya habari\n",
      "SURA YA PILI 52. Uwezo wa kuafikia habari\n",
      "53. Uhuru wa kutangamana\n",
      "54. Mikutano, maandamano, migomo na malalamishi\n",
      "JAMHURI 55. Haki za kisiasa\n",
      "4. Ikirari ya Jamhuri 5\n"
     ]
    }
   ],
   "source": [
    "# Import required libraries\n",
    "import pdfplumber  # For PDF text extraction\n",
    "import pandas as pd\n",
    "\n",
    "# Define file paths\n",
    "english_pdf_path = \"../Data/The_Constitution_of_Kenya_2010.pdf\"\n",
    "kiswahili_pdf_path = \"../Data/Kielelezo_Pantanifu_cha_Katiba_ya_Kenya.pdf\"\n",
    "\n",
    "# Function to extract text from a PDF\n",
    "def extract_pdf_text(pdf_path):\n",
    "    all_text = []\n",
    "    with pdfplumber.open(pdf_path) as pdf:\n",
    "        for page in pdf.pages:\n",
    "            text = page.extract_text()\n",
    "            if text:\n",
    "                all_text.append(text)\n",
    "    return \"\\n\".join(all_text)\n",
    "\n",
    "# Extract English and Kiswahili texts\n",
    "english_text = extract_pdf_text(english_pdf_path)\n",
    "kiswahili_text = extract_pdf_text(kiswahili_pdf_path)\n",
    "\n",
    "# Optional: Preview first 1000 characters\n",
    "print(\"English Preview:\\n\", english_text[:1000])\n",
    "print(\"\\nKiswahili Preview:\\n\", kiswahili_text[:1000])"
   ]
  },
  {
   "cell_type": "markdown",
   "metadata": {},
   "source": [
    "## Split text into articles\n"
   ]
  },
  {
   "cell_type": "code",
   "execution_count": 12,
   "metadata": {},
   "outputs": [],
   "source": [
    "import re\n",
    "def split_articles(text, keyword=\"Article\"):\n",
    "    \"\"\"\n",
    "    Splits the Constitution text into articles based on the keyword.\n",
    "    Returns a list of tuples: (Article Number/Title, Text)\n",
    "    \"\"\"\n",
    "    pattern = rf\"({keyword} \\d+.*?)\\n\"\n",
    "    splits = re.split(pattern, text)\n",
    "    \n",
    "    articles = []\n",
    "    for i in range(1, len(splits), 2):\n",
    "        title = splits[i].strip()\n",
    "        body = splits[i+1].strip() if i+1 < len(splits) else \"\"\n",
    "        articles.append((title, body))\n",
    "    return articles\n",
    "\n",
    "english_articles = split_articles(english_text, keyword=\"Article\")\n",
    "kiswahili_articles = split_articles(kiswahili_text, keyword=\"Kifungu\")  # Kiswahili keyword"
   ]
  },
  {
   "cell_type": "markdown",
   "metadata": {},
   "source": [
    "## Align English and Swahili"
   ]
  },
  {
   "cell_type": "code",
   "execution_count": 13,
   "metadata": {},
   "outputs": [
    {
     "name": "stdout",
     "output_type": "stream",
     "text": [
      "Aligned 61 articles successfully.\n"
     ]
    }
   ],
   "source": [
    "aligned_articles = []\n",
    "min_len = min(len(english_articles), len(kiswahili_articles))\n",
    "\n",
    "for i in range(min_len):\n",
    "    eng_title, eng_text = english_articles[i]\n",
    "    kis_title, kis_text = kiswahili_articles[i]\n",
    "    aligned_articles.append({\n",
    "        \"Article/Section\": eng_title,\n",
    "        \"Text_English\": eng_text,\n",
    "        \"Text_Kiswahili\": kis_text\n",
    "    })\n",
    "\n",
    "print(f\"Aligned {len(aligned_articles)} articles successfully.\")"
   ]
  },
  {
   "cell_type": "markdown",
   "metadata": {},
   "source": [
    "## Convert to Dataframe"
   ]
  },
  {
   "cell_type": "code",
   "execution_count": 14,
   "metadata": {},
   "outputs": [
    {
     "data": {
      "text/html": [
       "<div>\n",
       "<style scoped>\n",
       "    .dataframe tbody tr th:only-of-type {\n",
       "        vertical-align: middle;\n",
       "    }\n",
       "\n",
       "    .dataframe tbody tr th {\n",
       "        vertical-align: top;\n",
       "    }\n",
       "\n",
       "    .dataframe thead th {\n",
       "        text-align: right;\n",
       "    }\n",
       "</style>\n",
       "<table border=\"1\" class=\"dataframe\">\n",
       "  <thead>\n",
       "    <tr style=\"text-align: right;\">\n",
       "      <th></th>\n",
       "      <th>Article/Section</th>\n",
       "      <th>Text_English</th>\n",
       "      <th>Text_Kiswahili</th>\n",
       "    </tr>\n",
       "  </thead>\n",
       "  <tbody>\n",
       "    <tr>\n",
       "      <th>0</th>\n",
       "      <td>Article 10.</td>\n",
       "      <td>Territory of Kenya.\\n5. Kenya consists of the ...</td>\n",
       "      <td>hiyo.\\ninaweza kutoa usaidizi, ikiwemo-\\n(3) M...</td>\n",
       "    </tr>\n",
       "    <tr>\n",
       "      <th>1</th>\n",
       "      <td>Article 24.</td>\n",
       "      <td>Retention and acquisition of citizenship.\\n13....</td>\n",
       "      <td>(5) Hatua yoyote inayochukuliwa chini ya (4) i...</td>\n",
       "    </tr>\n",
       "    <tr>\n",
       "      <th>2</th>\n",
       "      <td>Article 14 (4), may be revoked if—</td>\n",
       "      <td>(a) the citizenship was acquired by fraud, fal...</td>\n",
       "      <td>uamuzi. (c) kuwa huru dhidi ya aina zote za gh...</td>\n",
       "    </tr>\n",
       "    <tr>\n",
       "      <th>3</th>\n",
       "      <td>Article 43, if the State claims that it</td>\n",
       "      <td>does not have the resources to implement the r...</td>\n",
       "      <td>(2) Kila mtu anayo haki ya kutaka kurekebishwa...</td>\n",
       "    </tr>\n",
       "    <tr>\n",
       "      <th>4</th>\n",
       "      <td>Article 43.</td>\n",
       "      <td>(3) All State organs and all public officers h...</td>\n",
       "      <td>(2) Haki hiyo inaendelea hadi kwa kutunga, kue...</td>\n",
       "    </tr>\n",
       "  </tbody>\n",
       "</table>\n",
       "</div>"
      ],
      "text/plain": [
       "                           Article/Section  \\\n",
       "0                              Article 10.   \n",
       "1                              Article 24.   \n",
       "2       Article 14 (4), may be revoked if—   \n",
       "3  Article 43, if the State claims that it   \n",
       "4                              Article 43.   \n",
       "\n",
       "                                        Text_English  \\\n",
       "0  Territory of Kenya.\\n5. Kenya consists of the ...   \n",
       "1  Retention and acquisition of citizenship.\\n13....   \n",
       "2  (a) the citizenship was acquired by fraud, fal...   \n",
       "3  does not have the resources to implement the r...   \n",
       "4  (3) All State organs and all public officers h...   \n",
       "\n",
       "                                      Text_Kiswahili  \n",
       "0  hiyo.\\ninaweza kutoa usaidizi, ikiwemo-\\n(3) M...  \n",
       "1  (5) Hatua yoyote inayochukuliwa chini ya (4) i...  \n",
       "2  uamuzi. (c) kuwa huru dhidi ya aina zote za gh...  \n",
       "3  (2) Kila mtu anayo haki ya kutaka kurekebishwa...  \n",
       "4  (2) Haki hiyo inaendelea hadi kwa kutunga, kue...  "
      ]
     },
     "execution_count": 14,
     "metadata": {},
     "output_type": "execute_result"
    }
   ],
   "source": [
    "data = pd.DataFrame(aligned_articles)\n",
    "data.head(5)"
   ]
  },
  {
   "cell_type": "markdown",
   "metadata": {},
   "source": [
    "## Save Structured Dataset"
   ]
  },
  {
   "cell_type": "code",
   "execution_count": 15,
   "metadata": {},
   "outputs": [
    {
     "ename": "OSError",
     "evalue": "Cannot save file into a non-existent directory: 'Data'",
     "output_type": "error",
     "traceback": [
      "\u001b[1;31m---------------------------------------------------------------------------\u001b[0m",
      "\u001b[1;31mOSError\u001b[0m                                   Traceback (most recent call last)",
      "Cell \u001b[1;32mIn[15], line 1\u001b[0m\n\u001b[1;32m----> 1\u001b[0m data\u001b[38;5;241m.\u001b[39mto_csv(\u001b[38;5;124m\"\u001b[39m\u001b[38;5;124mData/kenya_constitution_structured.csv\u001b[39m\u001b[38;5;124m\"\u001b[39m, index\u001b[38;5;241m=\u001b[39m\u001b[38;5;28;01mFalse\u001b[39;00m)\n",
      "File \u001b[1;32m~\\anaconda3\\Moringa\\Lib\\site-packages\\pandas\\util\\_decorators.py:333\u001b[0m, in \u001b[0;36mdeprecate_nonkeyword_arguments.<locals>.decorate.<locals>.wrapper\u001b[1;34m(*args, **kwargs)\u001b[0m\n\u001b[0;32m    327\u001b[0m \u001b[38;5;28;01mif\u001b[39;00m \u001b[38;5;28mlen\u001b[39m(args) \u001b[38;5;241m>\u001b[39m num_allow_args:\n\u001b[0;32m    328\u001b[0m     warnings\u001b[38;5;241m.\u001b[39mwarn(\n\u001b[0;32m    329\u001b[0m         msg\u001b[38;5;241m.\u001b[39mformat(arguments\u001b[38;5;241m=\u001b[39m_format_argument_list(allow_args)),\n\u001b[0;32m    330\u001b[0m         \u001b[38;5;167;01mFutureWarning\u001b[39;00m,\n\u001b[0;32m    331\u001b[0m         stacklevel\u001b[38;5;241m=\u001b[39mfind_stack_level(),\n\u001b[0;32m    332\u001b[0m     )\n\u001b[1;32m--> 333\u001b[0m \u001b[38;5;28;01mreturn\u001b[39;00m func(\u001b[38;5;241m*\u001b[39margs, \u001b[38;5;241m*\u001b[39m\u001b[38;5;241m*\u001b[39mkwargs)\n",
      "File \u001b[1;32m~\\anaconda3\\Moringa\\Lib\\site-packages\\pandas\\core\\generic.py:3967\u001b[0m, in \u001b[0;36mNDFrame.to_csv\u001b[1;34m(self, path_or_buf, sep, na_rep, float_format, columns, header, index, index_label, mode, encoding, compression, quoting, quotechar, lineterminator, chunksize, date_format, doublequote, escapechar, decimal, errors, storage_options)\u001b[0m\n\u001b[0;32m   3956\u001b[0m df \u001b[38;5;241m=\u001b[39m \u001b[38;5;28mself\u001b[39m \u001b[38;5;28;01mif\u001b[39;00m \u001b[38;5;28misinstance\u001b[39m(\u001b[38;5;28mself\u001b[39m, ABCDataFrame) \u001b[38;5;28;01melse\u001b[39;00m \u001b[38;5;28mself\u001b[39m\u001b[38;5;241m.\u001b[39mto_frame()\n\u001b[0;32m   3958\u001b[0m formatter \u001b[38;5;241m=\u001b[39m DataFrameFormatter(\n\u001b[0;32m   3959\u001b[0m     frame\u001b[38;5;241m=\u001b[39mdf,\n\u001b[0;32m   3960\u001b[0m     header\u001b[38;5;241m=\u001b[39mheader,\n\u001b[1;32m   (...)\u001b[0m\n\u001b[0;32m   3964\u001b[0m     decimal\u001b[38;5;241m=\u001b[39mdecimal,\n\u001b[0;32m   3965\u001b[0m )\n\u001b[1;32m-> 3967\u001b[0m \u001b[38;5;28;01mreturn\u001b[39;00m DataFrameRenderer(formatter)\u001b[38;5;241m.\u001b[39mto_csv(\n\u001b[0;32m   3968\u001b[0m     path_or_buf,\n\u001b[0;32m   3969\u001b[0m     lineterminator\u001b[38;5;241m=\u001b[39mlineterminator,\n\u001b[0;32m   3970\u001b[0m     sep\u001b[38;5;241m=\u001b[39msep,\n\u001b[0;32m   3971\u001b[0m     encoding\u001b[38;5;241m=\u001b[39mencoding,\n\u001b[0;32m   3972\u001b[0m     errors\u001b[38;5;241m=\u001b[39merrors,\n\u001b[0;32m   3973\u001b[0m     compression\u001b[38;5;241m=\u001b[39mcompression,\n\u001b[0;32m   3974\u001b[0m     quoting\u001b[38;5;241m=\u001b[39mquoting,\n\u001b[0;32m   3975\u001b[0m     columns\u001b[38;5;241m=\u001b[39mcolumns,\n\u001b[0;32m   3976\u001b[0m     index_label\u001b[38;5;241m=\u001b[39mindex_label,\n\u001b[0;32m   3977\u001b[0m     mode\u001b[38;5;241m=\u001b[39mmode,\n\u001b[0;32m   3978\u001b[0m     chunksize\u001b[38;5;241m=\u001b[39mchunksize,\n\u001b[0;32m   3979\u001b[0m     quotechar\u001b[38;5;241m=\u001b[39mquotechar,\n\u001b[0;32m   3980\u001b[0m     date_format\u001b[38;5;241m=\u001b[39mdate_format,\n\u001b[0;32m   3981\u001b[0m     doublequote\u001b[38;5;241m=\u001b[39mdoublequote,\n\u001b[0;32m   3982\u001b[0m     escapechar\u001b[38;5;241m=\u001b[39mescapechar,\n\u001b[0;32m   3983\u001b[0m     storage_options\u001b[38;5;241m=\u001b[39mstorage_options,\n\u001b[0;32m   3984\u001b[0m )\n",
      "File \u001b[1;32m~\\anaconda3\\Moringa\\Lib\\site-packages\\pandas\\io\\formats\\format.py:1014\u001b[0m, in \u001b[0;36mDataFrameRenderer.to_csv\u001b[1;34m(self, path_or_buf, encoding, sep, columns, index_label, mode, compression, quoting, quotechar, lineterminator, chunksize, date_format, doublequote, escapechar, errors, storage_options)\u001b[0m\n\u001b[0;32m    993\u001b[0m     created_buffer \u001b[38;5;241m=\u001b[39m \u001b[38;5;28;01mFalse\u001b[39;00m\n\u001b[0;32m    995\u001b[0m csv_formatter \u001b[38;5;241m=\u001b[39m CSVFormatter(\n\u001b[0;32m    996\u001b[0m     path_or_buf\u001b[38;5;241m=\u001b[39mpath_or_buf,\n\u001b[0;32m    997\u001b[0m     lineterminator\u001b[38;5;241m=\u001b[39mlineterminator,\n\u001b[1;32m   (...)\u001b[0m\n\u001b[0;32m   1012\u001b[0m     formatter\u001b[38;5;241m=\u001b[39m\u001b[38;5;28mself\u001b[39m\u001b[38;5;241m.\u001b[39mfmt,\n\u001b[0;32m   1013\u001b[0m )\n\u001b[1;32m-> 1014\u001b[0m csv_formatter\u001b[38;5;241m.\u001b[39msave()\n\u001b[0;32m   1016\u001b[0m \u001b[38;5;28;01mif\u001b[39;00m created_buffer:\n\u001b[0;32m   1017\u001b[0m     \u001b[38;5;28;01massert\u001b[39;00m \u001b[38;5;28misinstance\u001b[39m(path_or_buf, StringIO)\n",
      "File \u001b[1;32m~\\anaconda3\\Moringa\\Lib\\site-packages\\pandas\\io\\formats\\csvs.py:251\u001b[0m, in \u001b[0;36mCSVFormatter.save\u001b[1;34m(self)\u001b[0m\n\u001b[0;32m    247\u001b[0m \u001b[38;5;250m\u001b[39m\u001b[38;5;124;03m\"\"\"\u001b[39;00m\n\u001b[0;32m    248\u001b[0m \u001b[38;5;124;03mCreate the writer & save.\u001b[39;00m\n\u001b[0;32m    249\u001b[0m \u001b[38;5;124;03m\"\"\"\u001b[39;00m\n\u001b[0;32m    250\u001b[0m \u001b[38;5;66;03m# apply compression and byte/text conversion\u001b[39;00m\n\u001b[1;32m--> 251\u001b[0m \u001b[38;5;28;01mwith\u001b[39;00m get_handle(\n\u001b[0;32m    252\u001b[0m     \u001b[38;5;28mself\u001b[39m\u001b[38;5;241m.\u001b[39mfilepath_or_buffer,\n\u001b[0;32m    253\u001b[0m     \u001b[38;5;28mself\u001b[39m\u001b[38;5;241m.\u001b[39mmode,\n\u001b[0;32m    254\u001b[0m     encoding\u001b[38;5;241m=\u001b[39m\u001b[38;5;28mself\u001b[39m\u001b[38;5;241m.\u001b[39mencoding,\n\u001b[0;32m    255\u001b[0m     errors\u001b[38;5;241m=\u001b[39m\u001b[38;5;28mself\u001b[39m\u001b[38;5;241m.\u001b[39merrors,\n\u001b[0;32m    256\u001b[0m     compression\u001b[38;5;241m=\u001b[39m\u001b[38;5;28mself\u001b[39m\u001b[38;5;241m.\u001b[39mcompression,\n\u001b[0;32m    257\u001b[0m     storage_options\u001b[38;5;241m=\u001b[39m\u001b[38;5;28mself\u001b[39m\u001b[38;5;241m.\u001b[39mstorage_options,\n\u001b[0;32m    258\u001b[0m ) \u001b[38;5;28;01mas\u001b[39;00m handles:\n\u001b[0;32m    259\u001b[0m     \u001b[38;5;66;03m# Note: self.encoding is irrelevant here\u001b[39;00m\n\u001b[0;32m    260\u001b[0m     \u001b[38;5;28mself\u001b[39m\u001b[38;5;241m.\u001b[39mwriter \u001b[38;5;241m=\u001b[39m csvlib\u001b[38;5;241m.\u001b[39mwriter(\n\u001b[0;32m    261\u001b[0m         handles\u001b[38;5;241m.\u001b[39mhandle,\n\u001b[0;32m    262\u001b[0m         lineterminator\u001b[38;5;241m=\u001b[39m\u001b[38;5;28mself\u001b[39m\u001b[38;5;241m.\u001b[39mlineterminator,\n\u001b[1;32m   (...)\u001b[0m\n\u001b[0;32m    267\u001b[0m         quotechar\u001b[38;5;241m=\u001b[39m\u001b[38;5;28mself\u001b[39m\u001b[38;5;241m.\u001b[39mquotechar,\n\u001b[0;32m    268\u001b[0m     )\n\u001b[0;32m    270\u001b[0m     \u001b[38;5;28mself\u001b[39m\u001b[38;5;241m.\u001b[39m_save()\n",
      "File \u001b[1;32m~\\anaconda3\\Moringa\\Lib\\site-packages\\pandas\\io\\common.py:749\u001b[0m, in \u001b[0;36mget_handle\u001b[1;34m(path_or_buf, mode, encoding, compression, memory_map, is_text, errors, storage_options)\u001b[0m\n\u001b[0;32m    747\u001b[0m \u001b[38;5;66;03m# Only for write methods\u001b[39;00m\n\u001b[0;32m    748\u001b[0m \u001b[38;5;28;01mif\u001b[39;00m \u001b[38;5;124m\"\u001b[39m\u001b[38;5;124mr\u001b[39m\u001b[38;5;124m\"\u001b[39m \u001b[38;5;129;01mnot\u001b[39;00m \u001b[38;5;129;01min\u001b[39;00m mode \u001b[38;5;129;01mand\u001b[39;00m is_path:\n\u001b[1;32m--> 749\u001b[0m     check_parent_directory(\u001b[38;5;28mstr\u001b[39m(handle))\n\u001b[0;32m    751\u001b[0m \u001b[38;5;28;01mif\u001b[39;00m compression:\n\u001b[0;32m    752\u001b[0m     \u001b[38;5;28;01mif\u001b[39;00m compression \u001b[38;5;241m!=\u001b[39m \u001b[38;5;124m\"\u001b[39m\u001b[38;5;124mzstd\u001b[39m\u001b[38;5;124m\"\u001b[39m:\n\u001b[0;32m    753\u001b[0m         \u001b[38;5;66;03m# compression libraries do not like an explicit text-mode\u001b[39;00m\n",
      "File \u001b[1;32m~\\anaconda3\\Moringa\\Lib\\site-packages\\pandas\\io\\common.py:616\u001b[0m, in \u001b[0;36mcheck_parent_directory\u001b[1;34m(path)\u001b[0m\n\u001b[0;32m    614\u001b[0m parent \u001b[38;5;241m=\u001b[39m Path(path)\u001b[38;5;241m.\u001b[39mparent\n\u001b[0;32m    615\u001b[0m \u001b[38;5;28;01mif\u001b[39;00m \u001b[38;5;129;01mnot\u001b[39;00m parent\u001b[38;5;241m.\u001b[39mis_dir():\n\u001b[1;32m--> 616\u001b[0m     \u001b[38;5;28;01mraise\u001b[39;00m \u001b[38;5;167;01mOSError\u001b[39;00m(\u001b[38;5;124mrf\u001b[39m\u001b[38;5;124m\"\u001b[39m\u001b[38;5;124mCannot save file into a non-existent directory: \u001b[39m\u001b[38;5;124m'\u001b[39m\u001b[38;5;132;01m{\u001b[39;00mparent\u001b[38;5;132;01m}\u001b[39;00m\u001b[38;5;124m'\u001b[39m\u001b[38;5;124m\"\u001b[39m)\n",
      "\u001b[1;31mOSError\u001b[0m: Cannot save file into a non-existent directory: 'Data'"
     ]
    }
   ],
   "source": [
    "data.to_csv(\"Data/kenya_constitution_structured.csv\", index=False)\n"
   ]
  },
  {
   "cell_type": "code",
   "execution_count": null,
   "metadata": {},
   "outputs": [],
   "source": []
  }
 ],
 "metadata": {
  "kernelspec": {
   "display_name": "Python 3 (ipykernel)",
   "language": "python",
   "name": "python3"
  },
  "language_info": {
   "codemirror_mode": {
    "name": "ipython",
    "version": 3
   },
   "file_extension": ".py",
   "mimetype": "text/x-python",
   "name": "python",
   "nbconvert_exporter": "python",
   "pygments_lexer": "ipython3",
   "version": "3.12.7"
  }
 },
 "nbformat": 4,
 "nbformat_minor": 4
}
